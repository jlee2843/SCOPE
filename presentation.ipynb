{
 "cells": [
  {
   "cell_type": "markdown",
   "id": "c2265a93",
   "metadata": {
    "slideshow": {
     "slide_type": "slide"
    }
   },
   "source": [
    "# Introduction to the SCOPE Algorithm\n",
    "**Presenter:** Jenny Lee  &  **Supervisor:** Pathum Kossinna & **Collaborator**: Dr. Cai\n",
    "\n",
    "![first](image/SCOPE-image.png)"
   ]
  },
  {
   "cell_type": "markdown",
   "id": "3d57425c",
   "metadata": {
    "slideshow": {
     "slide_type": "slide"
    }
   },
   "source": [
    "## Why SCOPE?\n",
    "**Why?**\n",
    "- Due to the *noisy nature* of -omics data, stability to a machine learning algorithm methods have posed significant problems. \n",
    "\n",
    "**How?**\n",
    "- The SCOPE algorithm poses a solution to aforementioned problem by integrating boostrapped LASSO-regression and co-expression analysis.\n",
    "\n",
    "**Therefore...**\n",
    "- The SCOPE algorithm allows us to identify the **core genes** that could be a cause for disease, as well as underlying biological pathways the core genes interact. "
   ]
  },
  {
   "cell_type": "markdown",
   "id": "c962612b",
   "metadata": {
    "slideshow": {
     "slide_type": "slide"
    }
   },
   "source": [
    "### Project Roadmap\n",
    "- SCOPE-Stabilized LASSO Regression (bootstrapped LASSO regression)\n",
    "- Co-expression analysis and differential co-expression analysis\n",
    "- Pathway Enrichment with Over Representation Analysis\n",
    "![roadmap](image/SCOPE_Roadmap.png)"
   ]
  },
  {
   "cell_type": "code",
   "execution_count": null,
   "id": "7428ab79",
   "metadata": {
    "slideshow": {
     "slide_type": "slide"
    }
   },
   "outputs": [],
   "source": [
    "# import libraries\n",
    "import pandas as pd\n",
    "import numpy as np\n",
    "from matplotlib import pyplot as plt\n",
    "import matplotlib\n",
    "import seaborn as sns\n",
    "from scipy.stats import norm\n",
    "import plotly.express as px\n",
    "import plotly\n",
    "import plotly.graph_objects as go\n",
    "import plotly.subplots as sp\n",
    "import warnings\n",
    "from tqdm.notebook import tqdm\n",
    "import dask.dataframe as dd\n",
    "from dask.diagnostics import ProgressBar\n",
    "warnings.filterwarnings('ignore')"
   ]
  },
  {
   "cell_type": "markdown",
   "id": "169525b6",
   "metadata": {
    "slideshow": {
     "slide_type": "slide"
    }
   },
   "source": [
    "### GSE98394 Dataset \n",
    "- Retrieved from NCBI: [Gene Expression Omnibus](https://www.ncbi.nlm.nih.gov/geo/query/acc.cgi?acc=GSE98394). \n",
    "- Contains transcriptome data of 78 treatment-naive melanocytic tumor patients. The patients' stage of cancer varies from benign to malignant.  "
   ]
  },
  {
   "cell_type": "code",
   "execution_count": null,
   "id": "ea13caed",
   "metadata": {
    "scrolled": true
   },
   "outputs": [],
   "source": [
    "raw_data = pd.read_csv(\"GSE98394_expression.txt\", sep= \"\\t\", header=None, skiprows=1)\n",
    "raw_data.head()"
   ]
  },
  {
   "cell_type": "code",
   "execution_count": null,
   "id": "b5800af0",
   "metadata": {},
   "outputs": [],
   "source": [
    "matrix_data = pd.read_csv(\"GSE98394_series_matrix.txt\", sep= \"\\t\", on_bad_lines=\"skip\", skiprows=50)\n",
    "matrix_data.head()"
   ]
  },
  {
   "cell_type": "code",
   "execution_count": null,
   "id": "f8960b44",
   "metadata": {
    "slideshow": {
     "slide_type": "slide"
    }
   },
   "outputs": [],
   "source": [
    "df = pd.read_csv(\"data-cleaned-for-use/GSE98394_final.csv\").drop([\"Unnamed: 0\"], axis=1)\n",
    "replace = {\" Solid Tissue Normal\": \"Common acquired nevus\", \" Primary Tumor\": \"Primary melanoma\"}\n",
    "df[\"phen\"] = df[\"phen\"].replace(replace, regex=True)\n",
    "\n",
    "all_phens = df[\"phen\"].unique()\n",
    "print(\"We have \" + str(len(all_phens)) + \" types of unique phenotypes in this dataset. \\n\" + \n",
    "\"They are: \" + \", \".join([str(x) for x in all_phens]) + \".\")\n",
    "\n",
    "df.head()"
   ]
  },
  {
   "cell_type": "markdown",
   "id": "8c3e8d57",
   "metadata": {
    "slideshow": {
     "slide_type": "slide"
    }
   },
   "source": [
    "### Melanocytic Tumor\n",
    "On the deepest layer of the epidermis, cells called as **melanocytes** are located. They are responsible for producing the skin's pigment or color. Melanoma is a form of *skin cancer* that extends into the deeper layer of skins. [\\[1\\]](https://www.mayoclinic.org/diseases-conditions/melanoma/symptoms-causes/syc-20374884)\n",
    "\n",
    "| Phenotype | Description | \n",
    "| :- | :- |\n",
    "| **Common acquired nevus** | Benign stage of melanocytic tumor; a single or small number of pathogenic mutations occur, with no apprent genomic alterations. [\\[2\\]](https://www.ncbi.nlm.nih.gov/pmc/articles/PMC3965271/) |\n",
    "| **Primary melanoma** | Malignant stage of melanocytic tumor; high number of mutations have occurred, inducing an oppression of tumor-suppression mechanisms and activate additional oncogenic pathways. [\\[3\\]](https://www.ncbi.nlm.nih.gov/pmc/articles/PMC4852024/) |"
   ]
  },
  {
   "cell_type": "code",
   "execution_count": null,
   "id": "42f4b4a0",
   "metadata": {
    "slideshow": {
     "slide_type": "slide"
    }
   },
   "outputs": [],
   "source": [
    "common_nevus = 0\n",
    "primary_melanoma = 0\n",
    "for ind, row in df.iterrows():\n",
    "    condition = row[\"phen\"]\n",
    "    if condition == \"Common acquired nevus\":\n",
    "        common_nevus += 1\n",
    "    elif condition == \"Primary melanoma\":\n",
    "        primary_melanoma += 1\n",
    "\n",
    "print(\"Number of patients with common acquired nevus is: \" + str(common_nevus) + \".\")\n",
    "print(\"Number of patients with primary melanoma is: \" + str(primary_melanoma) + \".\")"
   ]
  },
  {
   "cell_type": "markdown",
   "id": "833cf2d3",
   "metadata": {
    "slideshow": {
     "slide_type": "slide"
    }
   },
   "source": [
    "## LASSO-Regression\n",
    "![lasso](image/lasso_regression.png)\n",
    "\n",
    "- Use shrinkage and feature selection to reduce over-fitting and generalization. \n",
    "- Used 10 k-fold cross-validation to get the optimal value for lambda. \n",
    "- Perform boostrapped LASSO regression with an iteration of 1000 times to counter instability of the traditional LASSO. \n",
    "### Outcome\n",
    "Selection of core genes based on number of hits each probe has."
   ]
  },
  {
   "cell_type": "code",
   "execution_count": null,
   "id": "94bf8f12",
   "metadata": {
    "slideshow": {
     "slide_type": "slide"
    }
   },
   "outputs": [],
   "source": [
    "lasso_summary = pd.read_csv(\"data-processed-changed/stabilized_lasso_Summary.csv\").sort_values(by=\"model.count\", ascending=False)\n",
    "lasso_summary.rename(columns={\"model.count\":\"model_count\", \"min.val\":\"min_val\", \"max.val\":\"max_val\"}, inplace=True)\n",
    "lasso_summary.head()"
   ]
  },
  {
   "cell_type": "code",
   "execution_count": null,
   "id": "c67d0d22",
   "metadata": {
    "slideshow": {
     "slide_type": "slide"
    }
   },
   "outputs": [],
   "source": [
    "# construct horizontal bar chart with top 30 hits of model count from lasso_head dataframe \n",
    "lasso_top_30 = lasso_summary.head(30)\n",
    "\n",
    "# set threshold value\n",
    "threshold_value = 800\n",
    "threshold_genes = lasso_top_30[lasso_top_30[\"model_count\"] > threshold_value]\n",
    "print(\"There are \" + str(len(threshold_genes)) + \" genes that had greater hits than the threshold value. \\n\" +\n",
    "     \"They are: \" + \", \".join([str(x) for x in threshold_genes[\"probe\"].unique()]) + \".\")\n",
    "threshold_genes"
   ]
  },
  {
   "cell_type": "code",
   "execution_count": null,
   "id": "dd2f3640",
   "metadata": {
    "slideshow": {
     "slide_type": "slide"
    }
   },
   "outputs": [],
   "source": [
    "# rearrange dataframe\n",
    "lasso_melt = pd.melt(lasso_top_30, id_vars=[\"probe\", \"model_count\"], value_vars=[\"min_val\", \"max_val\"])\n",
    "rename_variable = {\"min_val\":\"Minimum Value\", \"max_val\": \"Maximum Value\"}\n",
    "lasso_melt[\"variable\"] = lasso_melt[\"variable\"].replace(rename_variable)\n",
    "lasso_melt.head()"
   ]
  },
  {
   "cell_type": "code",
   "execution_count": null,
   "id": "47b05518",
   "metadata": {
    "slideshow": {
     "slide_type": "slide"
    }
   },
   "outputs": [],
   "source": [
    "def lasso_regression():\n",
    "    sns.set(style=\"darkgrid\")\n",
    "    fig, axis = plt.subplots(1,2, sharex=False, figsize=(15, 8))\n",
    "    fig.suptitle(\"Boostrapped LASSO Regression Results\")\n",
    "    sp1 = sns.barplot(ax=axis[0], x=lasso_top_30.model_count, y=lasso_top_30.probe, color=\"lightblue\")\n",
    "    sp1.set_ylabel(\"Gene Probe\", fontsize=16)\n",
    "    sp1.set_xlabel(\"Model Count\", fontsize=13)\n",
    "    sp1.axhline(3.55, 0, 3, color=\"r\", ls=\"--\")\n",
    "    sp2 = sns.barplot(ax=axis[1], data=lasso_melt, x=\"value\", y=\"probe\", hue=\"variable\")\n",
    "    sp2.set(ylabel=None)\n",
    "    sp2.set_xlabel(\"Minimum and Maximum Coefficient Value\", fontsize=13)\n",
    "    sns.despine(left=True, bottom=True)\n",
    "    for i in range(1, len(axis)):\n",
    "        axis[i].set_ylim(axis[0].get_ylim())\n",
    "        axis[i].set_yticks([])\n",
    "    fig.tight_layout()\n",
    "    sp2.axhline(3.6, 0, 2, color=\"r\", ls=\"--\")\n",
    "    fig.text(0.5, 0.001, \"Figure 1. Comparing number of counts, minimum value of coefficient, and maximum value of coefficients of top 30 model count genes.\", ha=\"center\")"
   ]
  },
  {
   "cell_type": "code",
   "execution_count": null,
   "id": "3d5bc478",
   "metadata": {
    "slideshow": {
     "slide_type": "slide"
    }
   },
   "outputs": [],
   "source": [
    "lasso_regression()"
   ]
  },
  {
   "cell_type": "markdown",
   "id": "651ef781",
   "metadata": {
    "slideshow": {
     "slide_type": "slide"
    }
   },
   "source": [
    "## Co-expression Analysis and Differential Co-expression Analysis\n",
    "- Perform 100 iterations to obtain a null distribution for the pairwise correlation between randomly selected genes.\n",
    "### Outcome\n",
    "Select secondary genes that will form the core gene network with previously selected core genes. Cutoff value for selecting secondary genes are 97.5th percentile of the null distributions."
   ]
  },
  {
   "cell_type": "markdown",
   "id": "c3d1b40f",
   "metadata": {
    "slideshow": {
     "slide_type": "slide"
    }
   },
   "source": [
    "### Co-expression Analysis Outcome"
   ]
  },
  {
   "cell_type": "code",
   "execution_count": null,
   "id": "714f8a1c",
   "metadata": {},
   "outputs": [],
   "source": [
    "corr_null_results = dd.read_csv(\"large-data/stabilized_lasso_CorrNull-Copy1.csv\", blocksize=1e+6)\n",
    "with ProgressBar():\n",
    "    corr_null_results = corr_null_results.compute()\n",
    "corr_null_results.head()"
   ]
  },
  {
   "cell_type": "markdown",
   "id": "dfa4cc58",
   "metadata": {
    "slideshow": {
     "slide_type": "slide"
    }
   },
   "source": [
    "### Differential Co-expression Analysis Outcome"
   ]
  },
  {
   "cell_type": "code",
   "execution_count": null,
   "id": "6bd0a6f7",
   "metadata": {},
   "outputs": [],
   "source": [
    "diffcor_results = dd.read_csv(\"large-data/stabilized_lasso_DiffCorrNull-Copy1.csv\", blocksize=1e+6)\n",
    "with ProgressBar():\n",
    "    diffcor_results = diffcor_results.compute()\n",
    "diffcor_results.head()"
   ]
  },
  {
   "cell_type": "code",
   "execution_count": null,
   "id": "7313a841",
   "metadata": {
    "slideshow": {
     "slide_type": "slide"
    }
   },
   "outputs": [],
   "source": [
    "def calculate_mean(df):\n",
    "    df[\"Mean\"] = df.mean(axis=1)\n",
    "    return df\n",
    "\n",
    "diffcor = calculate_mean(diffcor_results)\n",
    "cor = calculate_mean(corr_null_results)\n",
    "print(diffcor.Mean)\n",
    "print(cor.Mean)"
   ]
  },
  {
   "cell_type": "code",
   "execution_count": null,
   "id": "63e3d12b",
   "metadata": {
    "slideshow": {
     "slide_type": "slide"
    }
   },
   "outputs": [],
   "source": [
    "def coexpression_analysis():\n",
    "    plt.figure(figsize=(14, 7))\n",
    "    sns.set()\n",
    "    sns.distplot(diffcor[\"Mean\"], color=\"skyblue\", label=\"Diff-CoEx\", kde=True)\n",
    "    sns.distplot(cor[\"Mean\"], color=\"pink\", label=\"CoEx\", kde=True)\n",
    "    plt.title(\"Correlational and Differential Correlational Analysis Distribution\", fontsize=16)\n",
    "    plt.axvline(cor[\"Mean\"].quantile(0.975), 0, 1, color=\"r\", ls=\"--\")\n",
    "    plt.axvline(cor[\"Mean\"].quantile(0.025), 0, 1, color=\"r\", ls=\"--\")\n",
    "    plt.axvline(diffcor[\"Mean\"].quantile(0.975), 0, 1, color=\"b\", ls=\"--\")\n",
    "    plt.xlabel(\"Distribution\", fontsize=13)\n",
    "    plt.ylabel(\"Distribution Density\", fontsize=13)\n",
    "    plt.text(cor[\"Mean\"].quantile(0.975)+0.005, 0.5, \"97.5th percentile\", color=\"r\", size=\"medium\")\n",
    "    plt.text(cor[\"Mean\"].quantile(0.025)-0.07, 0.5, \"2.5th percentile\", color=\"r\", size=\"medium\")\n",
    "    plt.text(diffcor[\"Mean\"].quantile(0.975)+0.005, 0.5, \"97.5th percentile\", color=\"b\", size=\"medium\")\n",
    "    plt.legend()\n",
    "    plt.text(0.1, -2.5, \"Figure 2. Compare null distribution of coexpression analysis and differential coexpression analysis, with a mark of 97.5th percentile.\", ha=\"center\")\n",
    "    plt.show()"
   ]
  },
  {
   "cell_type": "code",
   "execution_count": null,
   "id": "d5f3d3d2",
   "metadata": {
    "slideshow": {
     "slide_type": "slide"
    }
   },
   "outputs": [],
   "source": [
    "coexpression_analysis()"
   ]
  },
  {
   "cell_type": "code",
   "execution_count": null,
   "id": "f1e0f450",
   "metadata": {},
   "outputs": [],
   "source": [
    "print(\"----Cutoff Value----\")\n",
    "print(\"The positive 97.5 percentile for coexpression analysis is \" + str(cor[\"Mean\"].quantile(0.975)))\n",
    "print(\"The negative 97.5 percentile for coexpression analysis is \" + str(cor[\"Mean\"].quantile(0.025)))\n",
    "\n",
    "print(\"The absolute 97.5 percentile for differential coexpression analysis is \" + str(diffcor[\"Mean\"].quantile(0.975)))"
   ]
  },
  {
   "cell_type": "markdown",
   "id": "2077a0cd",
   "metadata": {
    "slideshow": {
     "slide_type": "slide"
    }
   },
   "source": [
    "## Pathway Enrichment\n",
    "- Aim to see whether a particular set of genes overlap with known biological pathways.\n",
    "- Used **Kyoto Encyclopedia of Genes and Genomes (KEGG)** database to obtain information regarding biological pathways.\n",
    "- **Over Representation Analysis** was used to verify statistical significance and **WebGastaltR** package was used to test pathway enrichment against the KEGG databse. \n",
    "### Outcome\n",
    "Discovers pathways that are commonly influenced by the core gene network. "
   ]
  },
  {
   "cell_type": "code",
   "execution_count": null,
   "id": "de33bc85",
   "metadata": {
    "slideshow": {
     "slide_type": "slide"
    }
   },
   "outputs": [],
   "source": [
    "secondary_genes = pd.read_csv(\"data-processed-changed/stabilized_lasso_SecondaryGenes.csv\")\n",
    "secondary_genes.head()"
   ]
  },
  {
   "cell_type": "code",
   "execution_count": null,
   "id": "f3789cab",
   "metadata": {
    "slideshow": {
     "slide_type": "slide"
    }
   },
   "outputs": [],
   "source": [
    "pathways = pd.read_csv(\"data-processed-changed/GSE98394_Pathways.csv\")\n",
    "pathways.head()"
   ]
  },
  {
   "cell_type": "code",
   "execution_count": null,
   "id": "fbbfc0ca",
   "metadata": {
    "slideshow": {
     "slide_type": "slide"
    }
   },
   "outputs": [],
   "source": [
    "cleaned_pathways = pd.read_csv(\"data-final-outcomes/csv/GSE98394_sheet2.csv\")\n",
    "cleaned_pathways.head()"
   ]
  },
  {
   "cell_type": "markdown",
   "id": "5afc4c96",
   "metadata": {},
   "source": [
    "**Pathway Overlap Score** has a maximum value of 4. Based on our findings, galactose metabolism has the highest POS. "
   ]
  },
  {
   "cell_type": "code",
   "execution_count": null,
   "id": "6add781d",
   "metadata": {
    "slideshow": {
     "slide_type": "slide"
    }
   },
   "outputs": [],
   "source": [
    "def create_pivot_tables(gene_pathway):\n",
    "    for ind, row in cleaned_pathways.iterrows():\n",
    "        if row[\"Pathway Name\"] == gene_pathway:\n",
    "            userId = row[\"GeneSet\"]\n",
    "            \n",
    "    pathway_isolation = pathways[pathways[\"geneSet\"] == userId][\"userId\"].tolist()\n",
    "    pathway_list = \" \".join(pathway_isolation).split(\";\")\n",
    "\n",
    "    col_names = [\"Core Gene\", \"Secondary Gene\", \"Tumor Correlation\", \"Normal Correlation\"]\n",
    "    df = pd.DataFrame(columns=col_names)\n",
    "\n",
    "    for index, row in secondary_genes.iterrows():\n",
    "        if row[\"Secondary Gene\"] in pathway_list:\n",
    "            newdict = {\"Core Gene\":row[\"Core Gene Name\"],\n",
    "                      \"Secondary Gene\":row[\"Secondary Gene\"],\n",
    "                      \"Tumor Correlation\":row[\"Tumor Correlation\"],\n",
    "                      \"Normal Correlation\":row[\"Normal Correlation\"]}\n",
    "            df = df.append(newdict, ignore_index=True)  \n",
    "            \n",
    "    df[\"Core Gene\"] = df[\"Core Gene\"].replace(np.nan, \"NaN\", regex=True)\n",
    "    return df\n",
    "\n",
    "create_pivot_tables(\"Galactose metabolism\").head()"
   ]
  },
  {
   "cell_type": "code",
   "execution_count": null,
   "id": "8f735b21",
   "metadata": {
    "slideshow": {
     "slide_type": "slide"
    }
   },
   "outputs": [],
   "source": [
    "def create_heatmaps(gene_pathway):\n",
    "    df = create_pivot_tables(gene_pathway)\n",
    "    \n",
    "    tumor_result = df.pivot(index=\"Secondary Gene\", columns=\"Core Gene\", values=\"Tumor Correlation\")\n",
    "    tumor_result.fillna(0, inplace=True)\n",
    "\n",
    "    normal_result = df.pivot(index=\"Secondary Gene\", columns=\"Core Gene\", values=\"Normal Correlation\")\n",
    "    normal_result.fillna(0, inplace=True)\n",
    "\n",
    "    diff_result = df\n",
    "    diff_result[\"Difference\"] = abs(diff_result[\"Tumor Correlation\"] - diff_result[\"Normal Correlation\"])\n",
    "    diff_result = diff_result.pivot(index=\"Secondary Gene\", columns=\"Core Gene\", values=\"Difference\")\n",
    "    diff_result.fillna(0, inplace=True)\n",
    "    \n",
    "    fig, ax = plt.subplots(1,3, sharey=True, figsize=(12,10))\n",
    "    map1 = sns.heatmap(tumor_result, cbar=False, linewidths=1, square=False, cmap=\"PiYG\", annot = True, annot_kws={\"size\":7}, center=0, ax=ax[0])\n",
    "    map2 = sns.heatmap(normal_result, linewidths=1, square=False, cmap=\"PiYG\", annot = True, annot_kws={\"size\":7}, center=0, ax=ax[1])\n",
    "    map3 = sns.heatmap(diff_result, linewidths=1, square=False, cmap=\"PuOr\", annot = True, annot_kws={\"size\":7}, center=0, ax=ax[2])\n",
    "    map2.set_ylabel(\"\")\n",
    "    map3.set_ylabel(\"\")\n",
    "    map1.set_xlabel(\"\")\n",
    "    map2.set_xlabel(\"Core Gene\", fontsize=14)\n",
    "    map3.set_xlabel(\"\")\n",
    "    map1.set_title(\"\")\n",
    "    map2.set_title(\"Normal Correlation\")\n",
    "    map3.set_title(\"Correlation Difference\")\n",
    "    plt.suptitle(\"Pathway Name: \" + str(gene_pathway), y=0.925)\n",
    "    fig.text(0.5, 0.05, \"Figure 3. Heatmap based on correlation of tumor, normal, and absolute difference of a specific pathway.\", ha=\"center\")\n",
    "    plt.show()"
   ]
  },
  {
   "cell_type": "code",
   "execution_count": null,
   "id": "9ee23c58",
   "metadata": {
    "slideshow": {
     "slide_type": "slide"
    }
   },
   "outputs": [],
   "source": [
    "create_heatmaps(\"Lysosome\")"
   ]
  },
  {
   "cell_type": "code",
   "execution_count": null,
   "id": "c5070436",
   "metadata": {
    "slideshow": {
     "slide_type": "slide"
    }
   },
   "outputs": [],
   "source": [
    "# creating interactive figure; step1. rearrange dataframe \n",
    "all_path = cleaned_pathways[\"Pathway Name\"].unique()\n",
    "\n",
    "col_names = [\"Pathway Name\", \"Core Gene\", \"Secondary Gene\", \"Tumor Correlation\", \"Normal Correlation\"]\n",
    "final_df = pd.DataFrame(columns=col_names)\n",
    "\n",
    "for pathway in all_path:\n",
    "    for ind, row in cleaned_pathways.iterrows():\n",
    "        if row[\"Pathway Name\"] == pathway:\n",
    "            userId = row[\"GeneSet\"]\n",
    "            \n",
    "    pathway_isolation = pathways[pathways[\"geneSet\"] == userId][\"userId\"].tolist()\n",
    "    pathway_list = \" \".join(pathway_isolation).split(\";\")\n",
    "\n",
    "    for index, row in secondary_genes.iterrows():\n",
    "        if row[\"Secondary Gene\"] in pathway_list:\n",
    "            newdict = {\"Pathway Name\":pathway,\n",
    "                       \"Core Gene\":row[\"Core Gene Name\"],\n",
    "                       \"Secondary Gene\":row[\"Secondary Gene\"],\n",
    "                       \"Tumor Correlation\":row[\"Tumor Correlation\"],\n",
    "                       \"Normal Correlation\":row[\"Normal Correlation\"]}\n",
    "            final_df = final_df.append(newdict, ignore_index=True)  \n",
    "\n",
    "final_df.head()"
   ]
  },
  {
   "cell_type": "code",
   "execution_count": null,
   "id": "adabe1d5",
   "metadata": {
    "slideshow": {
     "slide_type": "skip"
    }
   },
   "outputs": [],
   "source": [
    "# creating interactive figure; step2. visualizing the figure\n",
    "interactive_fig = sp.make_subplots(rows=1, cols=4,\n",
    "                                   subplot_titles=(\"Tumor\", \"Normal\", \"\", \"Difference\"),\n",
    "                                  column_widths=[0.33, 0.33, 0.01, 0.33])\n",
    "\n",
    "pathways_list = cleaned_pathways[\"Pathway Name\"].unique()\n",
    "firstvis = lambda x: True if (x==\"Galactose metabolism\") else False\n",
    "\n",
    "pathway_buttons = []\n",
    "currnum = 0\n",
    "\n",
    "# design a function to automatically generate heatmaps\n",
    "def create_plotly_heatmap(dataframe, correlation, pathway, hovertemplate):\n",
    "    df = dataframe.loc[dataframe[\"variable\"] == correlation]\n",
    "    fig = go.Heatmap(z=df[\"value\"], x=df[\"Core Gene\"], y=df[\"Secondary Gene\"], visible=firstvis(pathway),\n",
    "                     name=correlation, coloraxis= \"coloraxis\" if correlation != \"Difference\" else \"coloraxis2\",\n",
    "                     customdata=np.stack((df[\"Core Gene\"], \n",
    "                                          df[\"Secondary Gene\"],\n",
    "                                          df[\"value\"],\n",
    "                                          df[\"Pathway\"]), axis=1),\n",
    "                     hovertemplate=hovertemplate, hoverinfo=\"x\", hoverongaps=False)\n",
    "    return fig\n",
    "\n",
    "# create heatmaps\n",
    "for pathway in pathways_list:\n",
    "    df = final_df[final_df[\"Pathway Name\"] == pathway]\n",
    "    df[\"Core Gene\"] = df[\"Core Gene\"].replace(np.nan, \"ENSG00000152022\", regex=True)\n",
    "    df[\"Difference\"] = abs(df[\"Tumor Correlation\"] - df[\"Normal Correlation\"])\n",
    "    df_melt = pd.melt(df, id_vars=[\"Core Gene\", \"Secondary Gene\"], value_vars=[\"Tumor Correlation\", \"Normal Correlation\", \"Difference\"])\n",
    "    df_melt[\"Pathway\"] = pathway\n",
    "    \n",
    "    hovertemplate = \"<br>\".join([\"<b>Core Gene:  %{customdata[0]}</b>\",\n",
    "                                 \"Secondary Gene: %{customdata[1]}\",\n",
    "                                 \"Pathway: %{customdata[3]}\",\n",
    "                                 \"Correlation Value: %{customdata[2]}\"])\n",
    "\n",
    "    tumor_trace = create_plotly_heatmap(df_melt, \"Tumor Correlation\", pathway, hovertemplate)\n",
    "    normal_trace = create_plotly_heatmap(df_melt, \"Normal Correlation\", pathway, hovertemplate)\n",
    "    diff_trace = create_plotly_heatmap(df_melt, \"Difference\", pathway, hovertemplate)\n",
    "    \n",
    "    interactive_fig.append_trace(tumor_trace, 1,1)\n",
    "    interactive_fig.append_trace(normal_trace, 1,2)\n",
    "    interactive_fig.append_trace(diff_trace, 1,4)\n",
    "\n",
    "# create buttons\n",
    "for pathway in pathways_list:\n",
    "    global currnum\n",
    "    traces = [False] * len(interactive_fig.data)\n",
    "    oldnum = currnum\n",
    "    currnum += 3\n",
    "    traces[0:oldnum] = [False for i in traces[0:oldnum]]\n",
    "    traces[oldnum:currnum] = [True for i in traces[oldnum:currnum]]\n",
    "    pathway_buttons.append(dict(label=str(pathway),\n",
    "                               method=\"update\", args=[{\"visible\":traces}]))\n",
    "\n",
    "interactive_fig.update_layout(updatemenus=[dict(active=0,\n",
    "                                                buttons=pathway_buttons,\n",
    "                                                direction=\"down\", pad={\"r\": 0, \"t\": 10},\n",
    "                                                showactive=True, x=0, xanchor=\"left\", y=1.14, yanchor=\"top\")],\n",
    "                             showlegend=False, width=700, height=700, title_text= \"Compare Correlation\", title_x=0.6, title_y=0.999)\n",
    "\n",
    "interactive_fig.update_layout(coloraxis = {'colorscale':\"RdBu_r\", 'showscale':True}, coloraxis2 = {'colorscale':\"Reds\", 'showscale':True})\n",
    "interactive_fig.layout.coloraxis.colorbar.x = 0.6\n",
    "interactive_fig.layout.coloraxis.colorbar.thickness = 15\n",
    "interactive_fig.layout.coloraxis.colorbar.tickfont = dict(size=10)\n",
    "interactive_fig.layout.coloraxis2.colorbar.x = 0.99\n",
    "interactive_fig.layout.coloraxis2.colorbar.thickness = 15\n",
    "interactive_fig.layout.coloraxis2.colorbar.tickfont = dict(size=10)\n",
    "interactive_fig.update_yaxes(showticklabels=False, row=1, col=2)\n",
    "interactive_fig.update_yaxes(showticklabels=False, row=1, col=4)"
   ]
  },
  {
   "cell_type": "code",
   "execution_count": null,
   "id": "348f7774",
   "metadata": {
    "slideshow": {
     "slide_type": "slide"
    }
   },
   "outputs": [],
   "source": [
    "def interactive_visualization():\n",
    "    # creating interactive figure; step2. visualizing the figure\n",
    "    interactive_fig = sp.make_subplots(rows=1, cols=4,\n",
    "                                       subplot_titles=(\"Tumor\", \"Normal\", \"\", \"Difference\"),\n",
    "                                      column_widths=[0.33, 0.33, 0.01, 0.33])\n",
    "\n",
    "    pathways_list = cleaned_pathways[\"Pathway Name\"].unique()\n",
    "    firstvis = lambda x: True if (x==\"Galactose metabolism\") else False\n",
    "\n",
    "    pathway_buttons = []\n",
    "    currnum = 0\n",
    "\n",
    "    # design a function to automatically generate heatmaps\n",
    "    def create_plotly_heatmap(dataframe, correlation, pathway, hovertemplate):\n",
    "        df = dataframe.loc[dataframe[\"variable\"] == correlation]\n",
    "        fig = go.Heatmap(z=df[\"value\"], x=df[\"Core Gene\"], y=df[\"Secondary Gene\"], visible=firstvis(pathway),\n",
    "                         name=correlation, coloraxis= \"coloraxis\" if correlation != \"Difference\" else \"coloraxis2\",\n",
    "                         customdata=np.stack((df[\"Core Gene\"], \n",
    "                                              df[\"Secondary Gene\"],\n",
    "                                              df[\"value\"],\n",
    "                                              df[\"Pathway\"]), axis=1),\n",
    "                         hovertemplate=hovertemplate, hoverinfo=\"x\", hoverongaps=False)\n",
    "        return fig\n",
    "\n",
    "    # create heatmaps\n",
    "    for pathway in pathways_list:\n",
    "        df = final_df[final_df[\"Pathway Name\"] == pathway]\n",
    "        df[\"Core Gene\"] = df[\"Core Gene\"].replace(np.nan, \"ENSG00000152022\", regex=True)\n",
    "        df[\"Difference\"] = abs(df[\"Tumor Correlation\"] - df[\"Normal Correlation\"])\n",
    "        df_melt = pd.melt(df, id_vars=[\"Core Gene\", \"Secondary Gene\"], value_vars=[\"Tumor Correlation\", \"Normal Correlation\", \"Difference\"])\n",
    "        df_melt[\"Pathway\"] = pathway\n",
    "\n",
    "        hovertemplate = \"<br>\".join([\"<b>Core Gene:  %{customdata[0]}</b>\",\n",
    "                                     \"Secondary Gene: %{customdata[1]}\",\n",
    "                                     \"Pathway: %{customdata[3]}\",\n",
    "                                     \"Correlation Value: %{customdata[2]}\"])\n",
    "\n",
    "        tumor_trace = create_plotly_heatmap(df_melt, \"Tumor Correlation\", pathway, hovertemplate)\n",
    "        normal_trace = create_plotly_heatmap(df_melt, \"Normal Correlation\", pathway, hovertemplate)\n",
    "        diff_trace = create_plotly_heatmap(df_melt, \"Difference\", pathway, hovertemplate)\n",
    "\n",
    "        interactive_fig.append_trace(tumor_trace, 1,1)\n",
    "        interactive_fig.append_trace(normal_trace, 1,2)\n",
    "        interactive_fig.append_trace(diff_trace, 1,4)\n",
    "\n",
    "    # create buttons\n",
    "    for pathway in pathways_list:\n",
    "        traces = [False] * len(interactive_fig.data)\n",
    "        oldnum = currnum\n",
    "        currnum += 3\n",
    "        traces[0:oldnum] = [False for i in traces[0:oldnum]]\n",
    "        traces[oldnum:currnum] = [True for i in traces[oldnum:currnum]]\n",
    "        pathway_buttons.append(dict(label=str(pathway),\n",
    "                                   method=\"update\", args=[{\"visible\":traces}]))\n",
    "\n",
    "    interactive_fig.update_layout(updatemenus=[dict(active=0,\n",
    "                                                    buttons=pathway_buttons,\n",
    "                                                    direction=\"down\", pad={\"r\": 0, \"t\": 10},\n",
    "                                                    showactive=True, x=0, xanchor=\"left\", y=1.14, yanchor=\"top\")],\n",
    "                                 showlegend=False, width=700, height=700, title_text= \"Compare Correlation\", title_x=0.6, title_y=0.999)\n",
    "\n",
    "    interactive_fig.update_layout(coloraxis = {'colorscale':\"RdBu_r\", 'showscale':True}, coloraxis2 = {'colorscale':\"Reds\", 'showscale':True})\n",
    "    interactive_fig.layout.coloraxis.colorbar.x = 0.6\n",
    "    interactive_fig.layout.coloraxis.colorbar.thickness = 15\n",
    "    interactive_fig.layout.coloraxis.colorbar.tickfont = dict(size=10)\n",
    "    interactive_fig.layout.coloraxis2.colorbar.x = 0.99\n",
    "    interactive_fig.layout.coloraxis2.colorbar.thickness = 15\n",
    "    interactive_fig.layout.coloraxis2.colorbar.tickfont = dict(size=10)\n",
    "    interactive_fig.update_yaxes(showticklabels=False, row=1, col=2)\n",
    "    interactive_fig.update_yaxes(showticklabels=False, row=1, col=4)\n",
    "    interactive_fig.show()"
   ]
  },
  {
   "cell_type": "code",
   "execution_count": null,
   "id": "83248dd6",
   "metadata": {
    "slideshow": {
     "slide_type": "slide"
    }
   },
   "outputs": [],
   "source": [
    "interactive_visualization()"
   ]
  },
  {
   "cell_type": "markdown",
   "id": "a4428d1c",
   "metadata": {
    "slideshow": {
     "slide_type": "slide"
    }
   },
   "source": [
    "## Final Analysis"
   ]
  },
  {
   "cell_type": "code",
   "execution_count": null,
   "id": "709d119e",
   "metadata": {
    "slideshow": {
     "slide_type": "slide"
    }
   },
   "outputs": [],
   "source": [
    "def final_analysis():\n",
    "    sns.set(style=\"darkgrid\", rc={'figure.figsize':(8.7,14)})\n",
    "    simplified_pathways = cleaned_pathways[[\"Pathway Name\", \"FGGY\", \"NADK\", \"DISP1\", \"ENSG00000152022\", \"POS\"]].set_index(\"Pathway Name\")\n",
    "    simplified_pathways = simplified_pathways.sort_values([\"POS\"], ascending=True)\n",
    "    ax = simplified_pathways[[\"FGGY\", \"NADK\", \"DISP1\", \"ENSG00000152022\"]].plot(kind=\"barh\", stacked=\"True\", figsize=(8, 14))\n",
    "    ax.set_xlabel(\"POS Value\")\n",
    "    ax.set_title(\"Pathway Overlap Score Value Comparison\", fontsize=15)\n",
    "    ax.text(0.5, -3.5, \"Figure 5. Compare the pathway overlap score by each of the four core genes.\", ha=\"center\")"
   ]
  },
  {
   "cell_type": "code",
   "execution_count": null,
   "id": "054d6411",
   "metadata": {},
   "outputs": [],
   "source": [
    "final_analysis()"
   ]
  },
  {
   "cell_type": "markdown",
   "id": "62ba2952",
   "metadata": {
    "slideshow": {
     "slide_type": "slide"
    }
   },
   "source": [
    "### Relevance of Galactose Matabolism Pathway to Melanocytic Tumor \n",
    "#### Relevent Scientific Articles\n",
    "**β-Galactosylceramidase Promotes Melanoma Growth via Modulation of Ceramide Metabolism** [(Mirella et al., 2020)](https://aacrjournals.org/cancerres/article/80/22/5011/645877/Galactosylceramidase-Promotes-Melanoma-Growth-via)\n",
    "- Role of **sphnomyelinase** in inducing cancer: Ceramide, a basic strctural units of spingolipids, act as a tumor suppressor. It is known that defects in ceramide metabolism contribute to tumor cell survival. \n",
    "- β-Galactosylceramidase (GALC) is a lysosomal hydrolase that cataluzes the removal of β-galactose from β-galactosylceramide and other sphingolipids. \n",
    "- In this study, researchers successfully showed that downregulation of GALC leads to melanocyte differentiation. Therefore, researchers suggest that GALC may play an oncogenic role in melanoma by modulating the levels of intracellular ceramide. \n",
    " "
   ]
  }
 ],
 "metadata": {
  "celltoolbar": "Slideshow",
  "kernelspec": {
   "display_name": "Python 3 (ipykernel)",
   "language": "python",
   "name": "python3"
  },
  "language_info": {
   "codemirror_mode": {
    "name": "ipython",
    "version": 3
   },
   "file_extension": ".py",
   "mimetype": "text/x-python",
   "name": "python",
   "nbconvert_exporter": "python",
   "pygments_lexer": "ipython3",
   "version": "3.9.12"
  }
 },
 "nbformat": 4,
 "nbformat_minor": 5
}
