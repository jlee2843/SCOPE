{
 "cells": [
  {
   "cell_type": "markdown",
   "id": "c2265a93",
   "metadata": {
    "slideshow": {
     "slide_type": "slide"
    }
   },
   "source": [
    "# Introduction to the SCOPE Algorithm\n",
    "\n",
    "### Project Roadmap\n",
    "- SCOPE-Stabilized LASSO Regression (bootstrapped LASSO regression)\n",
    "- Co-expression analysis and differential co-expression analysis\n",
    "- Pathway Enrichment with Over Representation Analysis"
   ]
  },
  {
   "cell_type": "markdown",
   "id": "3d57425c",
   "metadata": {
    "slideshow": {
     "slide_type": "slide"
    }
   },
   "source": [
    "## Why SCOPE?"
   ]
  },
  {
   "cell_type": "code",
   "execution_count": 1,
   "id": "7428ab79",
   "metadata": {
    "slideshow": {
     "slide_type": "slide"
    }
   },
   "outputs": [],
   "source": [
    "# import libraries\n",
    "import pandas as pd\n",
    "import numpy as np\n",
    "from matplotlib import pyplot as plt\n",
    "import matplotlib\n",
    "import seaborn as sns\n",
    "from scipy.stats import norm\n",
    "import plotly.express as px\n",
    "import plotly\n",
    "import plotly.graph_objects as go\n",
    "import plotly.subplots as sp\n",
    "import warnings\n",
    "warnings.filterwarnings('ignore')"
   ]
  },
  {
   "cell_type": "code",
   "execution_count": 2,
   "id": "f8960b44",
   "metadata": {
    "slideshow": {
     "slide_type": "slide"
    }
   },
   "outputs": [
    {
     "data": {
      "text/html": [
       "<div>\n",
       "<style scoped>\n",
       "    .dataframe tbody tr th:only-of-type {\n",
       "        vertical-align: middle;\n",
       "    }\n",
       "\n",
       "    .dataframe tbody tr th {\n",
       "        vertical-align: top;\n",
       "    }\n",
       "\n",
       "    .dataframe thead th {\n",
       "        text-align: right;\n",
       "    }\n",
       "</style>\n",
       "<table border=\"1\" class=\"dataframe\">\n",
       "  <thead>\n",
       "    <tr style=\"text-align: right;\">\n",
       "      <th></th>\n",
       "      <th>names</th>\n",
       "      <th>ENSG00000188976</th>\n",
       "      <th>ENSG00000187608</th>\n",
       "      <th>ENSG00000188157</th>\n",
       "      <th>ENSG00000131591</th>\n",
       "      <th>ENSG00000186891</th>\n",
       "      <th>ENSG00000078808</th>\n",
       "      <th>ENSG00000176022</th>\n",
       "      <th>ENSG00000184163</th>\n",
       "      <th>ENSG00000160087</th>\n",
       "      <th>...</th>\n",
       "      <th>ENSG00000124333</th>\n",
       "      <th>ENSG00000129824</th>\n",
       "      <th>ENSG00000067646</th>\n",
       "      <th>ENSG00000114374</th>\n",
       "      <th>ENSG00000067048</th>\n",
       "      <th>ENSG00000183878</th>\n",
       "      <th>ENSG00000165246</th>\n",
       "      <th>ENSG00000012817</th>\n",
       "      <th>ENSG00000198692</th>\n",
       "      <th>phen</th>\n",
       "    </tr>\n",
       "  </thead>\n",
       "  <tbody>\n",
       "    <tr>\n",
       "      <th>0</th>\n",
       "      <td>JC050</td>\n",
       "      <td>4.793051</td>\n",
       "      <td>2.073840</td>\n",
       "      <td>5.209481</td>\n",
       "      <td>2.570516</td>\n",
       "      <td>1.773628</td>\n",
       "      <td>4.443529</td>\n",
       "      <td>3.108706</td>\n",
       "      <td>0.065345</td>\n",
       "      <td>3.701456</td>\n",
       "      <td>...</td>\n",
       "      <td>5.311777</td>\n",
       "      <td>-6.923340</td>\n",
       "      <td>-6.923340</td>\n",
       "      <td>-6.923340</td>\n",
       "      <td>-6.923340</td>\n",
       "      <td>-6.923340</td>\n",
       "      <td>-6.923340</td>\n",
       "      <td>-6.923340</td>\n",
       "      <td>-6.923340</td>\n",
       "      <td>Common acquired nevus</td>\n",
       "    </tr>\n",
       "    <tr>\n",
       "      <th>1</th>\n",
       "      <td>JC052</td>\n",
       "      <td>4.807509</td>\n",
       "      <td>2.424415</td>\n",
       "      <td>4.153767</td>\n",
       "      <td>2.357817</td>\n",
       "      <td>3.220882</td>\n",
       "      <td>4.516338</td>\n",
       "      <td>3.057033</td>\n",
       "      <td>1.041558</td>\n",
       "      <td>3.924489</td>\n",
       "      <td>...</td>\n",
       "      <td>6.400489</td>\n",
       "      <td>-6.952795</td>\n",
       "      <td>-6.952795</td>\n",
       "      <td>-3.493364</td>\n",
       "      <td>-4.630867</td>\n",
       "      <td>-4.630867</td>\n",
       "      <td>-3.493364</td>\n",
       "      <td>-3.782870</td>\n",
       "      <td>-6.952795</td>\n",
       "      <td>Common acquired nevus</td>\n",
       "    </tr>\n",
       "    <tr>\n",
       "      <th>2</th>\n",
       "      <td>JC053</td>\n",
       "      <td>5.398071</td>\n",
       "      <td>3.356930</td>\n",
       "      <td>5.003010</td>\n",
       "      <td>3.412835</td>\n",
       "      <td>3.351491</td>\n",
       "      <td>5.341580</td>\n",
       "      <td>3.717689</td>\n",
       "      <td>0.895461</td>\n",
       "      <td>4.149278</td>\n",
       "      <td>...</td>\n",
       "      <td>5.979182</td>\n",
       "      <td>-4.375068</td>\n",
       "      <td>-6.696996</td>\n",
       "      <td>-4.375068</td>\n",
       "      <td>-4.375068</td>\n",
       "      <td>-6.696996</td>\n",
       "      <td>-6.696996</td>\n",
       "      <td>-3.527071</td>\n",
       "      <td>-6.696996</td>\n",
       "      <td>Common acquired nevus</td>\n",
       "    </tr>\n",
       "    <tr>\n",
       "      <th>3</th>\n",
       "      <td>JC054</td>\n",
       "      <td>5.523682</td>\n",
       "      <td>3.174818</td>\n",
       "      <td>5.225841</td>\n",
       "      <td>2.613122</td>\n",
       "      <td>2.999979</td>\n",
       "      <td>4.809339</td>\n",
       "      <td>2.978202</td>\n",
       "      <td>0.996733</td>\n",
       "      <td>3.595350</td>\n",
       "      <td>...</td>\n",
       "      <td>6.043226</td>\n",
       "      <td>-7.382645</td>\n",
       "      <td>-7.382645</td>\n",
       "      <td>-7.382645</td>\n",
       "      <td>-5.060717</td>\n",
       "      <td>-7.382645</td>\n",
       "      <td>-7.382645</td>\n",
       "      <td>-7.382645</td>\n",
       "      <td>-7.382645</td>\n",
       "      <td>Common acquired nevus</td>\n",
       "    </tr>\n",
       "    <tr>\n",
       "      <th>4</th>\n",
       "      <td>JC055</td>\n",
       "      <td>4.921878</td>\n",
       "      <td>2.601513</td>\n",
       "      <td>4.410262</td>\n",
       "      <td>2.662669</td>\n",
       "      <td>3.205225</td>\n",
       "      <td>4.849749</td>\n",
       "      <td>3.915218</td>\n",
       "      <td>1.008720</td>\n",
       "      <td>4.192968</td>\n",
       "      <td>...</td>\n",
       "      <td>6.198626</td>\n",
       "      <td>-6.927918</td>\n",
       "      <td>-6.927918</td>\n",
       "      <td>-6.927918</td>\n",
       "      <td>-4.605989</td>\n",
       "      <td>-6.927918</td>\n",
       "      <td>-6.927918</td>\n",
       "      <td>-6.927918</td>\n",
       "      <td>-6.927918</td>\n",
       "      <td>Common acquired nevus</td>\n",
       "    </tr>\n",
       "  </tbody>\n",
       "</table>\n",
       "<p>5 rows × 12842 columns</p>\n",
       "</div>"
      ],
      "text/plain": [
       "   names  ENSG00000188976  ENSG00000187608  ENSG00000188157  ENSG00000131591  \\\n",
       "0  JC050         4.793051         2.073840         5.209481         2.570516   \n",
       "1  JC052         4.807509         2.424415         4.153767         2.357817   \n",
       "2  JC053         5.398071         3.356930         5.003010         3.412835   \n",
       "3  JC054         5.523682         3.174818         5.225841         2.613122   \n",
       "4  JC055         4.921878         2.601513         4.410262         2.662669   \n",
       "\n",
       "   ENSG00000186891  ENSG00000078808  ENSG00000176022  ENSG00000184163  \\\n",
       "0         1.773628         4.443529         3.108706         0.065345   \n",
       "1         3.220882         4.516338         3.057033         1.041558   \n",
       "2         3.351491         5.341580         3.717689         0.895461   \n",
       "3         2.999979         4.809339         2.978202         0.996733   \n",
       "4         3.205225         4.849749         3.915218         1.008720   \n",
       "\n",
       "   ENSG00000160087  ...  ENSG00000124333  ENSG00000129824  ENSG00000067646  \\\n",
       "0         3.701456  ...         5.311777        -6.923340        -6.923340   \n",
       "1         3.924489  ...         6.400489        -6.952795        -6.952795   \n",
       "2         4.149278  ...         5.979182        -4.375068        -6.696996   \n",
       "3         3.595350  ...         6.043226        -7.382645        -7.382645   \n",
       "4         4.192968  ...         6.198626        -6.927918        -6.927918   \n",
       "\n",
       "   ENSG00000114374  ENSG00000067048  ENSG00000183878  ENSG00000165246  \\\n",
       "0        -6.923340        -6.923340        -6.923340        -6.923340   \n",
       "1        -3.493364        -4.630867        -4.630867        -3.493364   \n",
       "2        -4.375068        -4.375068        -6.696996        -6.696996   \n",
       "3        -7.382645        -5.060717        -7.382645        -7.382645   \n",
       "4        -6.927918        -4.605989        -6.927918        -6.927918   \n",
       "\n",
       "   ENSG00000012817  ENSG00000198692                   phen  \n",
       "0        -6.923340        -6.923340  Common acquired nevus  \n",
       "1        -3.782870        -6.952795  Common acquired nevus  \n",
       "2        -3.527071        -6.696996  Common acquired nevus  \n",
       "3        -7.382645        -7.382645  Common acquired nevus  \n",
       "4        -6.927918        -6.927918  Common acquired nevus  \n",
       "\n",
       "[5 rows x 12842 columns]"
      ]
     },
     "execution_count": 2,
     "metadata": {},
     "output_type": "execute_result"
    }
   ],
   "source": [
    "df = pd.read_csv(\"data-cleaned-for-use/GSE98394_final.csv\").drop([\"Unnamed: 0\"], axis=1)\n",
    "replace = {\" Solid Tissue Normal\": \"Common acquired nevus\", \" Primary Tumor\": \"Primary melanoma\"}\n",
    "df[\"phen\"] = df[\"phen\"].replace(replace, regex=True)\n",
    "\n",
    "common_nevus = 0\n",
    "primary_melanoma = 0\n",
    "for ind, row in df.iterrows():\n",
    "    condition = row[\"phen\"]\n",
    "    if condition == \"Common acquired nevus\":\n",
    "        common_nevus += 1\n",
    "    elif condition == \"Primary melanoma\":\n",
    "        primary_melanoma += 1\n",
    "\n",
    "df.head()"
   ]
  },
  {
   "cell_type": "code",
   "execution_count": 3,
   "id": "42f4b4a0",
   "metadata": {},
   "outputs": [
    {
     "name": "stdout",
     "output_type": "stream",
     "text": [
      "Number of patients with common acquired nevus is: 27.\n",
      "Number of patients with primary melanoma is: 51.\n"
     ]
    }
   ],
   "source": [
    "print(\"Number of patients with common acquired nevus is: \" + str(common_nevus) + \".\")\n",
    "print(\"Number of patients with primary melanoma is: \" + str(primary_melanoma) + \".\")"
   ]
  },
  {
   "cell_type": "markdown",
   "id": "833cf2d3",
   "metadata": {
    "slideshow": {
     "slide_type": "slide"
    }
   },
   "source": [
    "## LASSO-Regression"
   ]
  },
  {
   "cell_type": "code",
   "execution_count": 4,
   "id": "94bf8f12",
   "metadata": {
    "slideshow": {
     "slide_type": "slide"
    }
   },
   "outputs": [
    {
     "data": {
      "text/html": [
       "<div>\n",
       "<style scoped>\n",
       "    .dataframe tbody tr th:only-of-type {\n",
       "        vertical-align: middle;\n",
       "    }\n",
       "\n",
       "    .dataframe tbody tr th {\n",
       "        vertical-align: top;\n",
       "    }\n",
       "\n",
       "    .dataframe thead th {\n",
       "        text-align: right;\n",
       "    }\n",
       "</style>\n",
       "<table border=\"1\" class=\"dataframe\">\n",
       "  <thead>\n",
       "    <tr style=\"text-align: right;\">\n",
       "      <th></th>\n",
       "      <th>probe</th>\n",
       "      <th>model_count</th>\n",
       "      <th>min_val</th>\n",
       "      <th>max_val</th>\n",
       "    </tr>\n",
       "  </thead>\n",
       "  <tbody>\n",
       "    <tr>\n",
       "      <th>3</th>\n",
       "      <td>ENSG00000008130</td>\n",
       "      <td>957</td>\n",
       "      <td>0.000041</td>\n",
       "      <td>1.565865</td>\n",
       "    </tr>\n",
       "    <tr>\n",
       "      <th>93</th>\n",
       "      <td>ENSG00000172456</td>\n",
       "      <td>948</td>\n",
       "      <td>-2.005558</td>\n",
       "      <td>-0.000041</td>\n",
       "    </tr>\n",
       "    <tr>\n",
       "      <th>60</th>\n",
       "      <td>ENSG00000152022</td>\n",
       "      <td>907</td>\n",
       "      <td>0.000018</td>\n",
       "      <td>1.689454</td>\n",
       "    </tr>\n",
       "    <tr>\n",
       "      <th>63</th>\n",
       "      <td>ENSG00000154309</td>\n",
       "      <td>869</td>\n",
       "      <td>-1.423527</td>\n",
       "      <td>-0.000138</td>\n",
       "    </tr>\n",
       "    <tr>\n",
       "      <th>39</th>\n",
       "      <td>ENSG00000125703</td>\n",
       "      <td>734</td>\n",
       "      <td>-1.145421</td>\n",
       "      <td>-0.000004</td>\n",
       "    </tr>\n",
       "  </tbody>\n",
       "</table>\n",
       "</div>"
      ],
      "text/plain": [
       "              probe  model_count   min_val   max_val\n",
       "3   ENSG00000008130          957  0.000041  1.565865\n",
       "93  ENSG00000172456          948 -2.005558 -0.000041\n",
       "60  ENSG00000152022          907  0.000018  1.689454\n",
       "63  ENSG00000154309          869 -1.423527 -0.000138\n",
       "39  ENSG00000125703          734 -1.145421 -0.000004"
      ]
     },
     "execution_count": 4,
     "metadata": {},
     "output_type": "execute_result"
    }
   ],
   "source": [
    "lasso_summary = pd.read_csv(\"data-processed-changed/stabilized_lasso_Summary.csv\").sort_values(by=\"model.count\", ascending=False)\n",
    "lasso_summary.rename(columns={\"model.count\":\"model_count\", \"min.val\":\"min_val\", \"max.val\":\"max_val\"}, inplace=True)\n",
    "lasso_summary.head()"
   ]
  },
  {
   "cell_type": "code",
   "execution_count": 5,
   "id": "c67d0d22",
   "metadata": {},
   "outputs": [
    {
     "name": "stdout",
     "output_type": "stream",
     "text": [
      "There are 4genes that had greater hits than the threshold value. \n",
      "They are: ['ENSG00000008130' 'ENSG00000172456' 'ENSG00000152022' 'ENSG00000154309'].\n"
     ]
    },
    {
     "data": {
      "text/html": [
       "<div>\n",
       "<style scoped>\n",
       "    .dataframe tbody tr th:only-of-type {\n",
       "        vertical-align: middle;\n",
       "    }\n",
       "\n",
       "    .dataframe tbody tr th {\n",
       "        vertical-align: top;\n",
       "    }\n",
       "\n",
       "    .dataframe thead th {\n",
       "        text-align: right;\n",
       "    }\n",
       "</style>\n",
       "<table border=\"1\" class=\"dataframe\">\n",
       "  <thead>\n",
       "    <tr style=\"text-align: right;\">\n",
       "      <th></th>\n",
       "      <th>probe</th>\n",
       "      <th>model_count</th>\n",
       "      <th>min_val</th>\n",
       "      <th>max_val</th>\n",
       "    </tr>\n",
       "  </thead>\n",
       "  <tbody>\n",
       "    <tr>\n",
       "      <th>3</th>\n",
       "      <td>ENSG00000008130</td>\n",
       "      <td>957</td>\n",
       "      <td>0.000041</td>\n",
       "      <td>1.565865</td>\n",
       "    </tr>\n",
       "    <tr>\n",
       "      <th>93</th>\n",
       "      <td>ENSG00000172456</td>\n",
       "      <td>948</td>\n",
       "      <td>-2.005558</td>\n",
       "      <td>-0.000041</td>\n",
       "    </tr>\n",
       "    <tr>\n",
       "      <th>60</th>\n",
       "      <td>ENSG00000152022</td>\n",
       "      <td>907</td>\n",
       "      <td>0.000018</td>\n",
       "      <td>1.689454</td>\n",
       "    </tr>\n",
       "    <tr>\n",
       "      <th>63</th>\n",
       "      <td>ENSG00000154309</td>\n",
       "      <td>869</td>\n",
       "      <td>-1.423527</td>\n",
       "      <td>-0.000138</td>\n",
       "    </tr>\n",
       "  </tbody>\n",
       "</table>\n",
       "</div>"
      ],
      "text/plain": [
       "              probe  model_count   min_val   max_val\n",
       "3   ENSG00000008130          957  0.000041  1.565865\n",
       "93  ENSG00000172456          948 -2.005558 -0.000041\n",
       "60  ENSG00000152022          907  0.000018  1.689454\n",
       "63  ENSG00000154309          869 -1.423527 -0.000138"
      ]
     },
     "execution_count": 5,
     "metadata": {},
     "output_type": "execute_result"
    }
   ],
   "source": [
    "# construct horizontal bar chart with top 30 hits of model count from lasso_head dataframe \n",
    "lasso_top_30 = lasso_summary.head(30)\n",
    "\n",
    "# set threshold value\n",
    "threshold_value = 800\n",
    "threshold_genes = lasso_top_30[lasso_top_30[\"model_count\"] > threshold_value]\n",
    "print(\"There are \" + str(len(threshold_genes)) + \"genes that had greater hits than the threshold value. \\n\" +\n",
    "     \"They are: \" + str(threshold_genes[\"probe\"].unique()) + \".\")\n",
    "threshold_genes"
   ]
  },
  {
   "cell_type": "code",
   "execution_count": 6,
   "id": "dd2f3640",
   "metadata": {
    "slideshow": {
     "slide_type": "slide"
    }
   },
   "outputs": [
    {
     "data": {
      "text/html": [
       "<div>\n",
       "<style scoped>\n",
       "    .dataframe tbody tr th:only-of-type {\n",
       "        vertical-align: middle;\n",
       "    }\n",
       "\n",
       "    .dataframe tbody tr th {\n",
       "        vertical-align: top;\n",
       "    }\n",
       "\n",
       "    .dataframe thead th {\n",
       "        text-align: right;\n",
       "    }\n",
       "</style>\n",
       "<table border=\"1\" class=\"dataframe\">\n",
       "  <thead>\n",
       "    <tr style=\"text-align: right;\">\n",
       "      <th></th>\n",
       "      <th>probe</th>\n",
       "      <th>model_count</th>\n",
       "      <th>variable</th>\n",
       "      <th>value</th>\n",
       "    </tr>\n",
       "  </thead>\n",
       "  <tbody>\n",
       "    <tr>\n",
       "      <th>0</th>\n",
       "      <td>ENSG00000008130</td>\n",
       "      <td>957</td>\n",
       "      <td>Minimum Value</td>\n",
       "      <td>0.000041</td>\n",
       "    </tr>\n",
       "    <tr>\n",
       "      <th>1</th>\n",
       "      <td>ENSG00000172456</td>\n",
       "      <td>948</td>\n",
       "      <td>Minimum Value</td>\n",
       "      <td>-2.005558</td>\n",
       "    </tr>\n",
       "    <tr>\n",
       "      <th>2</th>\n",
       "      <td>ENSG00000152022</td>\n",
       "      <td>907</td>\n",
       "      <td>Minimum Value</td>\n",
       "      <td>0.000018</td>\n",
       "    </tr>\n",
       "    <tr>\n",
       "      <th>3</th>\n",
       "      <td>ENSG00000154309</td>\n",
       "      <td>869</td>\n",
       "      <td>Minimum Value</td>\n",
       "      <td>-1.423527</td>\n",
       "    </tr>\n",
       "    <tr>\n",
       "      <th>4</th>\n",
       "      <td>ENSG00000125703</td>\n",
       "      <td>734</td>\n",
       "      <td>Minimum Value</td>\n",
       "      <td>-1.145421</td>\n",
       "    </tr>\n",
       "  </tbody>\n",
       "</table>\n",
       "</div>"
      ],
      "text/plain": [
       "             probe  model_count       variable     value\n",
       "0  ENSG00000008130          957  Minimum Value  0.000041\n",
       "1  ENSG00000172456          948  Minimum Value -2.005558\n",
       "2  ENSG00000152022          907  Minimum Value  0.000018\n",
       "3  ENSG00000154309          869  Minimum Value -1.423527\n",
       "4  ENSG00000125703          734  Minimum Value -1.145421"
      ]
     },
     "execution_count": 6,
     "metadata": {},
     "output_type": "execute_result"
    }
   ],
   "source": [
    "# rearrange dataframe\n",
    "lasso_melt = pd.melt(lasso_top_30, id_vars=[\"probe\", \"model_count\"], value_vars=[\"min_val\", \"max_val\"])\n",
    "rename_variable = {\"min_val\":\"Minimum Value\", \"max_val\": \"Maximum Value\"}\n",
    "lasso_melt[\"variable\"] = lasso_melt[\"variable\"].replace(rename_variable)\n",
    "lasso_melt.head()"
   ]
  },
  {
   "cell_type": "code",
   "execution_count": 7,
   "id": "b62b7be9",
   "metadata": {},
   "outputs": [
    {
     "data": {
      "text/plain": [
       "Text(0.5, 0.001, 'Figure 1. Comparing number of counts, minimum value of coefficient, and maximum value of coefficients of top 30 model count genes.')"
      ]
     },
     "execution_count": 7,
     "metadata": {},
     "output_type": "execute_result"
    },
    {
     "data": {
      "image/png": "[encoded data removed]",
      "text/plain": [
       "<Figure size 1080x576 with 2 Axes>"
      ]
     },
     "metadata": {
      "needs_background": "light"
     },
     "output_type": "display_data"
    }
   ],
   "source": [
    "# stabilized LASSO regression visualizations\n",
    "fig, axis = plt.subplots(1,2, sharex=False, figsize=(15, 8))\n",
    "sns.set(style=\"darkgrid\")\n",
    "fig.suptitle(\"Boostrapped LASSO Regression Results\")\n",
    "sp1 = sns.barplot(ax=axis[0], x=lasso_top_30.model_count, y=lasso_top_30.probe, color=\"lightblue\")\n",
    "sp1.set_ylabel(\"Gene Probe\", fontsize=16)\n",
    "sp1.set_xlabel(\"Model Count\", fontsize=13)\n",
    "sp1.axhline(3.55, 0, 3, color=\"r\", ls=\"--\")\n",
    "sp2 = sns.barplot(ax=axis[1], data=lasso_melt, x=\"value\", y=\"probe\", hue=\"variable\")\n",
    "sp2.set(ylabel=None)\n",
    "sp2.set_xlabel(\"Minimum and Maximum Coefficient Value\", fontsize=13)\n",
    "sns.despine(left=True, bottom=True)\n",
    "for i in range(1, len(axis)):\n",
    "    axis[i].set_ylim(axis[0].get_ylim())\n",
    "    axis[i].set_yticks([])\n",
    "fig.tight_layout()\n",
    "sp2.axhline(3.6, 0, 2, color=\"r\", ls=\"--\")\n",
    "fig.text(0.5, 0.001, \"Figure 1. Comparing number of counts, minimum value of coefficient, and maximum value of coefficients of top 30 model count genes.\", ha=\"center\")"
   ]
  },
  {
   "cell_type": "code",
   "execution_count": null,
   "id": "ad56b659",
   "metadata": {
    "slideshow": {
     "slide_type": "slide"
    }
   },
   "outputs": [],
   "source": [
    "cleaned_pathways = pd.read_csv(\"data-final-outcomes/csv/GSE98394_sheet2.csv\")\n",
    "cleaned_pathways.head()"
   ]
  },
  {
   "cell_type": "markdown",
   "id": "651ef781",
   "metadata": {
    "slideshow": {
     "slide_type": "slide"
    }
   },
   "source": [
    "Mywords"
   ]
  }
 ],
 "metadata": {
  "celltoolbar": "Slideshow",
  "kernelspec": {
   "display_name": "Python 3 (ipykernel)",
   "language": "python",
   "name": "python3"
  },
  "language_info": {
   "codemirror_mode": {
    "name": "ipython",
    "version": 3
   },
   "file_extension": ".py",
   "mimetype": "text/x-python",
   "name": "python",
   "nbconvert_exporter": "python",
   "pygments_lexer": "ipython3",
   "version": "3.9.12"
  }
 },
 "nbformat": 4,
 "nbformat_minor": 5
}
